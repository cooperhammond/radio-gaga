{
  "nbformat": 4,
  "nbformat_minor": 0,
  "metadata": {
    "colab": {
      "name": "personality.ipynb",
      "provenance": [],
      "collapsed_sections": [],
      "authorship_tag": "ABX9TyMGyUc9a0/8Th5hKYV+3m5r",
      "include_colab_link": true
    },
    "kernelspec": {
      "name": "python3",
      "display_name": "Python 3"
    },
    "language_info": {
      "name": "python"
    },
    "accelerator": "GPU"
  },
  "cells": [
    {
      "cell_type": "markdown",
      "metadata": {
        "id": "view-in-github",
        "colab_type": "text"
      },
      "source": [
        "<a href=\"https://colab.research.google.com/github/cooperhammond/radio-gaga/blob/master/personality.ipynb\" target=\"_parent\"><img src=\"https://colab.research.google.com/assets/colab-badge.svg\" alt=\"Open In Colab\"/></a>"
      ]
    },
    {
      "cell_type": "markdown",
      "metadata": {
        "id": "kaSKUzdjMfOA"
      },
      "source": [
        "Setup"
      ]
    },
    {
      "cell_type": "code",
      "metadata": {
        "id": "IZjstCKjMhD1"
      },
      "source": [
        "!pip install tensorflow==1.15\n",
        "!pip install gpt-2-simple"
      ],
      "execution_count": null,
      "outputs": []
    },
    {
      "cell_type": "markdown",
      "metadata": {
        "id": "2OaUJ5MYMEUh"
      },
      "source": [
        "Imports"
      ]
    },
    {
      "cell_type": "code",
      "metadata": {
        "colab": {
          "base_uri": "https://localhost:8080/"
        },
        "id": "3jJnOUHCL8Or",
        "outputId": "7033bc4a-217e-45c5-9894-649433ac792b"
      },
      "source": [
        "import gpt_2_simple as gpt2\n",
        "import os\n",
        "import requests"
      ],
      "execution_count": 1,
      "outputs": [
        {
          "output_type": "stream",
          "text": [
            "WARNING:tensorflow:\n",
            "The TensorFlow contrib module will not be included in TensorFlow 2.0.\n",
            "For more information, please see:\n",
            "  * https://github.com/tensorflow/community/blob/master/rfcs/20180907-contrib-sunset.md\n",
            "  * https://github.com/tensorflow/addons\n",
            "  * https://github.com/tensorflow/io (for I/O related ops)\n",
            "If you depend on functionality not listed there, please file an issue.\n",
            "\n"
          ],
          "name": "stdout"
        }
      ]
    },
    {
      "cell_type": "markdown",
      "metadata": {
        "id": "5r1Wqk2VMGrG"
      },
      "source": [
        "Get model"
      ]
    },
    {
      "cell_type": "code",
      "metadata": {
        "id": "-8xd89ZTMJuY"
      },
      "source": [
        "model_name = \"124M\"\n",
        "if not os.path.isdir(os.path.join(\"models\", model_name)):\n",
        "\tprint(f\"Downloading {model_name} model...\")\n",
        "\tgpt2.download_gpt2(model_name=model_name)   # model is saved into current directory under /models/124M/"
      ],
      "execution_count": 2,
      "outputs": []
    },
    {
      "cell_type": "markdown",
      "metadata": {
        "id": "oshIpY4RMJ74"
      },
      "source": [
        "Get training data"
      ]
    },
    {
      "cell_type": "code",
      "metadata": {
        "id": "DjA3Os2qMO8X"
      },
      "source": [
        "file_name = \"Abbott and Costello.txt\"\n",
        "if not os.path.isfile(file_name):\n",
        "\turl = \"https://raw.githubusercontent.com/karpathy/char-rnn/master/data/tinyshakespeare/input.txt\"\n",
        "\tdata = requests.get(url)\n",
        "\t\n",
        "\twith open(file_name, 'w') as f:\n",
        "\t\tf.write(data.text)"
      ],
      "execution_count": 34,
      "outputs": []
    },
    {
      "cell_type": "markdown",
      "metadata": {
        "id": "gLlpZ8chMTIi"
      },
      "source": [
        "Train"
      ]
    },
    {
      "cell_type": "code",
      "metadata": {
        "id": "2kHqFTsBW25D"
      },
      "source": [
        "sess = gpt2.start_tf_sess()"
      ],
      "execution_count": 35,
      "outputs": []
    },
    {
      "cell_type": "code",
      "metadata": {
        "id": "yaF5EdoFXJ0z"
      },
      "source": [
        "sess = gpt2.reset_session(sess=sess) # Run this if you are continuing to train the model"
      ],
      "execution_count": 36,
      "outputs": []
    },
    {
      "cell_type": "code",
      "metadata": {
        "colab": {
          "base_uri": "https://localhost:8080/"
        },
        "id": "4ypu0nwHL4_K",
        "outputId": "3ed2e426-ef69-43ea-8007-5cc3ca8a1288"
      },
      "source": [
        "gpt2.finetune(sess,\n",
        "              file_name,\n",
        "              model_name=model_name,\n",
        "              steps=1000)   # steps is max number of training steps"
      ],
      "execution_count": 37,
      "outputs": [
        {
          "output_type": "stream",
          "text": [
            "Loading checkpoint models/124M/model.ckpt\n",
            "INFO:tensorflow:Restoring parameters from models/124M/model.ckpt\n"
          ],
          "name": "stdout"
        },
        {
          "output_type": "stream",
          "text": [
            "100%|██████████| 1/1 [00:00<00:00, 386.22it/s]"
          ],
          "name": "stderr"
        },
        {
          "output_type": "stream",
          "text": [
            "Loading dataset...\n",
            "dataset has 10927 tokens\n",
            "Training...\n"
          ],
          "name": "stdout"
        },
        {
          "output_type": "stream",
          "text": [
            "\n"
          ],
          "name": "stderr"
        },
        {
          "output_type": "stream",
          "text": [
            "[1 | 7.77] loss=3.11 avg=3.11\n",
            "[2 | 10.18] loss=2.84 avg=2.97\n",
            "[3 | 12.59] loss=2.45 avg=2.80\n",
            "[4 | 15.03] loss=2.65 avg=2.76\n",
            "[5 | 17.48] loss=2.45 avg=2.70\n",
            "[6 | 19.94] loss=2.40 avg=2.64\n",
            "[7 | 22.43] loss=2.37 avg=2.60\n",
            "[8 | 24.92] loss=2.30 avg=2.57\n",
            "[9 | 27.42] loss=2.09 avg=2.51\n",
            "[10 | 29.91] loss=2.16 avg=2.47\n",
            "[11 | 32.39] loss=2.16 avg=2.44\n",
            "[12 | 34.85] loss=1.92 avg=2.40\n",
            "[13 | 37.29] loss=1.85 avg=2.35\n",
            "[14 | 39.71] loss=1.84 avg=2.32\n",
            "[15 | 42.11] loss=1.74 avg=2.27\n",
            "[16 | 44.51] loss=1.77 avg=2.24\n",
            "[17 | 46.90] loss=1.43 avg=2.19\n",
            "[18 | 49.28] loss=1.61 avg=2.15\n",
            "[19 | 51.66] loss=1.53 avg=2.12\n",
            "[20 | 54.03] loss=1.57 avg=2.09\n",
            "[21 | 56.39] loss=1.39 avg=2.05\n",
            "[22 | 58.75] loss=1.30 avg=2.01\n",
            "[23 | 61.12] loss=1.41 avg=1.98\n",
            "[24 | 63.48] loss=1.42 avg=1.96\n",
            "[25 | 65.83] loss=1.36 avg=1.93\n",
            "[26 | 68.19] loss=1.41 avg=1.91\n",
            "[27 | 70.55] loss=0.95 avg=1.87\n",
            "[28 | 72.91] loss=1.07 avg=1.83\n",
            "[29 | 75.28] loss=0.90 avg=1.80\n",
            "[30 | 77.64] loss=0.96 avg=1.77\n",
            "[31 | 80.02] loss=0.90 avg=1.73\n",
            "[32 | 82.40] loss=0.89 avg=1.70\n",
            "[33 | 84.79] loss=0.65 avg=1.67\n",
            "[34 | 87.18] loss=0.73 avg=1.63\n",
            "[35 | 89.57] loss=0.62 avg=1.60\n",
            "[36 | 91.97] loss=0.82 avg=1.57\n",
            "[37 | 94.38] loss=0.77 avg=1.55\n",
            "[38 | 96.80] loss=0.72 avg=1.52\n",
            "[39 | 99.22] loss=0.51 avg=1.49\n",
            "[40 | 101.64] loss=0.63 avg=1.46\n",
            "[41 | 104.06] loss=0.40 avg=1.43\n",
            "[42 | 106.49] loss=0.48 avg=1.41\n",
            "[43 | 108.92] loss=0.42 avg=1.38\n",
            "[44 | 111.34] loss=0.60 avg=1.36\n",
            "[45 | 113.76] loss=0.37 avg=1.33\n",
            "[46 | 116.18] loss=0.36 avg=1.30\n",
            "[47 | 118.60] loss=0.36 avg=1.28\n",
            "[48 | 121.01] loss=0.49 avg=1.26\n",
            "[49 | 123.43] loss=0.28 avg=1.23\n",
            "[50 | 125.84] loss=0.30 avg=1.21\n",
            "[51 | 128.24] loss=0.20 avg=1.18\n",
            "[52 | 130.63] loss=0.23 avg=1.16\n",
            "[53 | 133.03] loss=0.25 avg=1.14\n",
            "[54 | 135.42] loss=0.14 avg=1.11\n",
            "[55 | 137.81] loss=0.15 avg=1.09\n",
            "[56 | 140.21] loss=0.19 avg=1.07\n",
            "[57 | 142.60] loss=0.16 avg=1.05\n",
            "[58 | 144.99] loss=0.16 avg=1.03\n",
            "[59 | 147.37] loss=0.16 avg=1.01\n",
            "[60 | 149.75] loss=0.11 avg=0.99\n",
            "[61 | 152.15] loss=0.12 avg=0.97\n",
            "[62 | 154.53] loss=0.13 avg=0.95\n",
            "[63 | 156.92] loss=0.09 avg=0.93\n",
            "[64 | 159.31] loss=0.05 avg=0.92\n",
            "[65 | 161.71] loss=0.11 avg=0.90\n",
            "[66 | 164.10] loss=0.06 avg=0.88\n",
            "[67 | 166.50] loss=0.08 avg=0.86\n",
            "[68 | 168.90] loss=0.10 avg=0.85\n",
            "[69 | 171.29] loss=0.07 avg=0.83\n",
            "[70 | 173.69] loss=0.07 avg=0.82\n",
            "[71 | 176.08] loss=0.07 avg=0.80\n",
            "[72 | 178.48] loss=0.06 avg=0.79\n",
            "[73 | 180.88] loss=0.04 avg=0.78\n",
            "[74 | 183.28] loss=0.08 avg=0.76\n",
            "[75 | 185.69] loss=0.07 avg=0.75\n",
            "[76 | 188.09] loss=0.05 avg=0.74\n",
            "[77 | 190.49] loss=0.06 avg=0.72\n",
            "[78 | 192.90] loss=0.05 avg=0.71\n",
            "[79 | 195.30] loss=0.08 avg=0.70\n",
            "[80 | 197.70] loss=0.07 avg=0.69\n",
            "[81 | 200.10] loss=0.05 avg=0.68\n",
            "[82 | 202.50] loss=0.06 avg=0.67\n",
            "[83 | 204.91] loss=0.04 avg=0.65\n",
            "[84 | 207.31] loss=0.05 avg=0.64\n",
            "[85 | 209.72] loss=0.04 avg=0.63\n",
            "[86 | 212.12] loss=0.06 avg=0.62\n",
            "[87 | 214.52] loss=0.06 avg=0.61\n",
            "[88 | 216.92] loss=0.05 avg=0.60\n",
            "[89 | 219.32] loss=0.04 avg=0.59\n",
            "[90 | 221.72] loss=0.05 avg=0.59\n",
            "[91 | 224.12] loss=0.03 avg=0.58\n",
            "[92 | 226.52] loss=0.03 avg=0.57\n",
            "[93 | 228.92] loss=0.03 avg=0.56\n",
            "[94 | 231.32] loss=0.04 avg=0.55\n",
            "[95 | 233.71] loss=0.04 avg=0.54\n",
            "[96 | 236.11] loss=0.03 avg=0.53\n",
            "[97 | 238.51] loss=0.04 avg=0.53\n",
            "[98 | 240.91] loss=0.03 avg=0.52\n",
            "[99 | 243.30] loss=0.04 avg=0.51\n",
            "[100 | 245.70] loss=0.04 avg=0.50\n",
            "======== SAMPLE 1 ========\n",
            " tongue, the ooze inside me makes me want to run!\n",
            "\n",
            "LAUGHTER\n",
            "\n",
            "THE FOUR HITS (singing): \n",
            "Brave, yes, indeedy - a threat to Clyde Beatty\n",
            "The greatest hunter of them all\n",
            "\n",
            "THE MUSIC PAUSES\n",
            "\n",
            "BUD: Costello.\n",
            "\n",
            "LOU (sings):\n",
            "At Cyril's you'll have the best table - there's no such thing as a ''dairy-free'' Irish \n",
            "night ...\n",
            "\n",
            "APPLAUSE\n",
            "\n",
            "DOUGLAS: Hey, Costello! Costello!\n",
            "\n",
            "LOU (sings):\n",
            "At Black's Pool you'll have the best table - there's no such thing as a ''dairy-free'' \n",
            "night ...\n",
            "\n",
            "APPLAUSE\n",
            "\n",
            "LOU (sings):\n",
            "Three o'clock in the morning is no \n",
            "treatie party ... Abbott, you've got to go out and have a \n",
            "night's rest.\n",
            "\n",
            "LOU (sings):\n",
            "Three \n",
            "dopplegangers in burgundy pajama pants and a T-Zone ticker are \n",
            "at Black's Pool.\n",
            "\n",
            "LOU (sings):\n",
            "Three killers -- one in burgundy, one in lime green -- looks \n",
            "amazed.\n",
            "\n",
            "LOU (sings):\n",
            "Three young people are caught up in an American hostage thing. Why are they \n",
            "in the country?\n",
            "\n",
            "LOU (sings):\n",
            "Laundromats are expensive. I'd rather go to an \n",
            "apolitical place like South Africa than to a bloody American prison.\n",
            "\n",
            "LOU (sings):\n",
            "One of the conspirators is captured and has an American \n",
            "hunt developed. Why?\n",
            "\n",
            "LOU (sings):\n",
            "I could go to a war-torn country and a starving country and then you wouldn't have to \n",
            "totally destroy the United States.\n",
            "\n",
            "LOU (sings):\n",
            "I wouldn't go to Gitmo, Paducah and Abu Ghraib. I'd go \n",
            "to T-Zone, the free zone under American occupation.\n",
            "\n",
            "LOU (sings):\n",
            "And you'd be free there, too, didn't you Bob?\n",
            "\n",
            "LOU (sings):\n",
            "And you'd be a Metro-Goldwyn Metro-Goldinville!\n",
            "\n",
            "LOU (sings):\n",
            "And you'd be a tousled-tousled wrecksail!\n",
            "\n",
            "LOU (sings):\n",
            "One of the greatest safaris in the world is under way in \n",
            "T-Zone.\n",
            "\n",
            "LOU (sings):\n",
            "No, no, no, no, you dummy...\n",
            "\n",
            "LAUGHTER\n",
            "\n",
            "LOU (sings):\n",
            "For a moment, Costello...\n",
            "\n",
            "LOU (sings):\n",
            "When I say, you're free there, I don't mean, I'm in Egypt, \n",
            "Brumpton's oasis, surrounded by my family and my Easter eggs.\n",
            "\n",
            "LOU (sings):\n",
            "When I say, you're in exile there, I don't mean, I'm in \n",
            "New York, where I shoot rabbits and I'm married!\n",
            "\n",
            "LOU (sings):\n",
            "And when I say, I say \"New York\" in Spanish!\n",
            "\n",
            "LAUGHTER\n",
            "\n",
            "LOU (sings):\n",
            "\"Español\" for \"emergently \n",
            "inhabited\" California.\n",
            "\n",
            "LOU (sings):\n",
            "There's a reward of a million dollars to the man that gets that \n",
            "mountain lion. One of you guys ought to trap him.\n",
            "\n",
            "LOU (sings):\n",
            "Who says hunting is a serious sport?\n",
            "\n",
            "LAUGHTER\n",
            "\n",
            "LOU (sings):\n",
            "Shotgunners are the greatest hunters of all time.\n",
            "\n",
            "LOU (sings):\n",
            "At least, the greatest...\n",
            "\n",
            "LAUGHTER\n",
            "\n",
            "LOU (sings high note):\n",
            "At the price a thousand dollars is now for a gun, I won't \n",
            "shoot you anymore.\n",
            "\n",
            "LOU (sings low note):\n",
            "I'll never break a law like this again.\n",
            "\n",
            "LAUGHTER\n",
            "\n",
            "LOU (sings high note):\n",
            "At this price, I won't give you a cent. I'll carry you \n",
            "(sings \"Adios, Archangel\") or I'll kill you and your baby and then Kick Your Uncle Fat Lickin' Costello.\n",
            "\n",
            "LAUGHTER\n",
            "\n",
            "LOU (sings \"The Adversary's Song\")\n",
            "The greatest hunter of them all.\n",
            "\n",
            "LOU (sings \"The Adversary's De-tweet\")\n",
            "A savage attack on a British mountaineer.\n",
            "\n",
            "LAUGHTER\n",
            "\n",
            "LOU (sings \"The\n",
            "\n",
            "[101 | 259.21] loss=0.04 avg=0.50\n",
            "[102 | 261.60] loss=0.03 avg=0.49\n",
            "[103 | 264.00] loss=0.05 avg=0.48\n",
            "[104 | 266.39] loss=0.05 avg=0.47\n",
            "[105 | 268.78] loss=0.03 avg=0.47\n",
            "[106 | 271.18] loss=0.03 avg=0.46\n",
            "[107 | 273.58] loss=0.04 avg=0.45\n",
            "[108 | 275.98] loss=0.04 avg=0.45\n",
            "[109 | 278.37] loss=0.03 avg=0.44\n",
            "[110 | 280.77] loss=0.03 avg=0.44\n",
            "[111 | 283.16] loss=0.04 avg=0.43\n",
            "[112 | 285.55] loss=0.08 avg=0.43\n",
            "[113 | 287.95] loss=0.02 avg=0.42\n",
            "[114 | 290.35] loss=0.04 avg=0.41\n",
            "[115 | 292.74] loss=0.03 avg=0.41\n",
            "[116 | 295.13] loss=0.04 avg=0.40\n",
            "[117 | 297.52] loss=0.04 avg=0.40\n",
            "[118 | 299.91] loss=0.04 avg=0.39\n",
            "[119 | 302.31] loss=0.03 avg=0.39\n",
            "[120 | 304.70] loss=0.03 avg=0.38\n",
            "[121 | 307.09] loss=0.03 avg=0.38\n",
            "[122 | 309.49] loss=0.02 avg=0.37\n",
            "[123 | 311.89] loss=0.03 avg=0.37\n",
            "interrupted\n",
            "Saving checkpoint/run1/model-123\n"
          ],
          "name": "stdout"
        }
      ]
    },
    {
      "cell_type": "markdown",
      "metadata": {
        "id": "Qs3g6GrsMUoO"
      },
      "source": [
        "Generate!"
      ]
    },
    {
      "cell_type": "code",
      "metadata": {
        "colab": {
          "base_uri": "https://localhost:8080/"
        },
        "id": "jBbOXLpgMViV",
        "outputId": "ba7d6081-b56a-413d-96aa-20411ee90443"
      },
      "source": [
        "gpt2.generate(sess, prefix=\"\")"
      ],
      "execution_count": 43,
      "outputs": [
        {
          "output_type": "stream",
          "text": [
            "CLINTON, N.Y. -- A reward of up to $2,000 has been named for a man who was captured for running a wild goose.\n",
            "\n",
            "BUD: A wild goose?\n",
            "\n",
            "LOU: Yes.\n",
            "\n",
            "BUD: The goose broke the skin of the \n",
            "leader's neck.\n",
            "\n",
            "LOU: And then there was the \n",
            "lion's skin.\n",
            "\n",
            "BUD: That's right, please help!\n",
            "\n",
            "LOU (in a baby voice): I'm in love!\n",
            "There's a catch! If you help me, I'll go ahead \n",
            "and take the lion.\n",
            "\n",
            "BUD: That's ridiculous! There's a catch! If you help me, I'll go \n",
            "and work for the butcher's post.\n",
            "\n",
            "LOU: Then why don't you work for the butcher's post?\n",
            "\n",
            "BUD: That's not necessary. I thought maybe the \n",
            "lion's skin was a reward for you. \n",
            "\n",
            "LOU: Then what happens to the lion's skin?\n",
            "\n",
            "BUD: I'll give it to the dog.\n",
            "\n",
            "LOU: Then how do you like the look of it?\n",
            "\n",
            "BUD: I'll give it to the stuffed rhinoceros.\n",
            "\n",
            "LOU: The stuffed rhinoceros has a big reward for you. This \n",
            "mountain lion has it. You can get him for a little extra.\n",
            "\n",
            "BUD: That's fine. You don't have to get this lion's skin. \n",
            "Look, Abbott, here comes Marilyn Maxwell.\n",
            "\n",
            "MUSICAL BRIDGE\n",
            "\n",
            "BUD: Wait a minute, Costello. There's something phony about this.\n",
            "\n",
            "LOU: Marilyn Maxwell is the daughter of the late Dr. Louis Maxwell and her father, the \n",
            "prostitution magnate.\n",
            "\n",
            "BUD: Is the name Marilyn Maxwell in a Hollywood script?\n",
            "\n",
            "LOU: No. It's in a song called \"MUSICAL BRIDGE\" by the folk quartet.\n",
            "\n",
            "BUD: And did you hear that?\n",
            "\n",
            "LOU: I thought so.\n",
            "\n",
            "BUD: Well, come on, Costello, Marilyn has a song.\n",
            "\n",
            "LOU: You ought to go over to the sound \n",
            "of the song and look for it.\n",
            "\n",
            "BUD: Listen to it.\n",
            "\n",
            "LOU: Listen. \n",
            "\n",
            "BUD: Marilyn Maxwell sings \"How I Met Your Mother\":\n",
            "\n",
            "LOU (sings): Until I Find Your Mother\n",
            "And then I Can't Take It Out There\n",
            "\n",
            "(instrumental break)\n",
            "\n",
            "LOU (sings): Until I Find Your Mother\n",
            "And then I Can't Take It Out There\n",
            "\n",
            "(instrumental break)\n",
            "\n",
            "LAUGHTER\n",
            "\n",
            "BUD: Costello, this is the last week of the big game hunting season. Now, \n",
            "tomorrow I'm going hunting in the High Sierras and I'd like you to come along \n",
            "with me.\n",
            "\n",
            "LOU: Oh, gee, thanks, Abbott. Say, you've done a lot of huntin'. What do they \n",
            "call those little flies that buzz around the animals?\n",
            "\n",
            "BUD: Gnats.\n",
            "\n",
            "LOU: Gnats.\n",
            "\n",
            "LAUGHTER\n",
            "\n",
            "BUD: Gnats are the flies that annoy the animals. Of course, some of them have \n",
            "ticks.\n",
            "\n",
            "LOU: Why don't they take the ticks and give those flies a good thrashing?\n",
            "\n",
            "BUD: I didn't say \"sticks,\" I said \"ticks\"! For instance, there's deer's \n",
            "ticks.\n",
            "\n",
            "LOU: The deer ticks?\n",
            "\n",
            "BUD: Uh, certainly.\n",
            "\n",
            "LOU: Who wound 'em up?\n",
            "\n",
            "BUD: Aw, nobody wound 'em up.\n",
            "\n",
            "LOU: Then what makes 'em tick? Somebody must've slipped a grume in his gruel.\n",
            "\n",
            "BUD: Costello... when I say...\n",
            "\n",
            "LAUGHTER\n",
            "\n",
            "BUD: Listen to me, please. When I say \"deer ticks\" I don't mean the \n",
            "deer ticks. I mean, deer ticks.\n",
            "\n",
            "LOU: Abbott, let me smell your breath.\n",
            "\n",
            "BUD: Aw, come on, please, talk sense.\n",
            "\n",
            "LAUGHTER\n",
            "\n",
            "BUD: The deer has ticks and the ticks bother the deer.\n",
            "\n",
            "LOU: They used to bother me when I went to school.\n",
            "\n",
            "BUD: Ticks bothered you in school?\n",
            "\n",
            "LOU: Yeah. Arithme-tics ... Mathema-tics...\n",
            "\n",
            "LAUGHTER\n",
            "\n",
            "LOU: And, one time, a tick got me in trouble with the teacher.\n",
            "\n",
            "\n"
          ],
          "name": "stdout"
        }
      ]
    },
    {
      "cell_type": "code",
      "metadata": {
        "id": "4JiKpY7Rb1jc"
      },
      "source": [
        ""
      ],
      "execution_count": null,
      "outputs": []
    }
  ]
}